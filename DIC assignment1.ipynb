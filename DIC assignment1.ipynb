{
  "nbformat": 4,
  "nbformat_minor": 0,
  "metadata": {
    "colab": {
      "name": "Untitled1.ipynb",
      "provenance": []
    },
    "kernelspec": {
      "name": "python3",
      "display_name": "Python 3"
    }
  },
  "cells": [
    {
      "cell_type": "code",
      "metadata": {
        "id": "R8PIzZCUCueV"
      },
      "source": [
        "#Using exponetial Arithmetic to calculate the thickness of paper that is fold 43 times\r\n",
        "THICKNESS = 0.00008\r\n",
        "folded_paper_thickness = THICKNESS*2**43\r\n",
        "print(\"Thickness： {} meters\".format(folded_paper_thickness))"
      ],
      "execution_count": null,
      "outputs": []
    },
    {
      "cell_type": "code",
      "metadata": {
        "id": "uZOfgGDqDl1K"
      },
      "source": [
        "#By using Python, converting a meter into a kilometer and display it in two decimal value\r\n",
        "print(\"Thickness： {:.2f}km\".format(folded_paper_thickness/10000))"
      ],
      "execution_count": null,
      "outputs": []
    },
    {
      "cell_type": "code",
      "metadata": {
        "id": "ZE0cS0AdEEXo"
      },
      "source": [
        "#def paper(num_folds=43, thickness=0.00008):\r\n",
        "paper_thickness = 0.00008\r\n",
        "number_fold = 43\r\n",
        "for i in range(1, number_fold):\r\n",
        "        paper_thickness = paper_thickness *2*2*2*2*2*2*2*2*2*2*2*2*2*2*2*2*2*2*2*2*2*2*2*2*2*2*2*2*2*2*2*2*2*2*2*2*2*2*2*2*2*2*2\r\n",
        "        print(\"Thickness： {} meters\".format(paper_thickness))\r\n",
        "        if paper_thickness >= 10000:\r\n",
        "            #using python to convert to kilometer\r\n",
        "            print(\"Thickness： {:.2f}km\".format(paper_thickness/10000))\r\n",
        "        else:\r\n",
        "            #By Using python convert to meter\r\n",
        "            print(\"Thickness： {:.2f}meter\".format(paper_thickness/1000))"
      ],
      "execution_count": null,
      "outputs": []
    },
    {
      "cell_type": "code",
      "metadata": {
        "id": "miMMzCfi7z3V"
      },
      "source": [
        "\r\n",
        "#CALCULATING THE TIME IT TAKE TO RUN\r\n",
        "import time\r\n",
        "\r\n",
        "start = time.time()\r\n",
        "THICKNESS = 0.00008\r\n",
        "folded_thickness = THICKNESS*2**43\r\n",
        "print(\"Thickness： {} meters\".format(folded_thickness))\r\n",
        "elapsed_time = time.time() - start\r\n",
        "print(\"time : {} sec\".format(elapsed_time))"
      ],
      "execution_count": null,
      "outputs": []
    },
    {
      "cell_type": "code",
      "metadata": {
        "id": "r_piE4TD8UoX"
      },
      "source": [
        "%%timeit\r\n",
        "folded_thickness = THICKNESS*2**43\r\n",
        "folded_thickness"
      ],
      "execution_count": null,
      "outputs": []
    },
    {
      "cell_type": "code",
      "metadata": {
        "id": "LFBtkGnk8X4k"
      },
      "source": [
        "#Creating an empty list\r\n",
        "list1 = [0.00008]\r\n",
        "fold_num = 43\r\n",
        "thickness = 0.00008\r\n",
        "\r\n",
        "#folded_thickness = \r\n",
        "for i in range(1, fold_num + 1):\r\n",
        "    folded_thickness = thickness*2**i\r\n",
        "    \r\n",
        "    #Adding values to the list\r\n",
        "    list1.append(folded_thickness)\r\n",
        "    print(list1)\r\n",
        "    print(len(list1))"
      ],
      "execution_count": null,
      "outputs": []
    },
    {
      "cell_type": "code",
      "metadata": {
        "id": "mRP64-al8l0V"
      },
      "source": [
        "print(len(list1))"
      ],
      "execution_count": null,
      "outputs": []
    },
    {
      "cell_type": "code",
      "metadata": {
        "id": "BjCGeyn78nrF"
      },
      "source": [
        "import matplotlib.pyplot as plt\r\n",
        "#%matplotlib inline\r\n",
        "\r\n",
        "plt.title(\"thickness of folded paper\")\r\n",
        "plt.xlabel(\"number of folds\")\r\n",
        "plt.ylabel(\"thickness[M]\")\r\n",
        "plt.tick_params(labelsize=20)\r\n",
        "plt.plot(list1)\r\n",
        "plt.show()\r\n",
        "# ACCORDING TO THE GRAPHY IT INCREASES AS THE NUMBER OF FOLDS INCREASE"
      ],
      "execution_count": null,
      "outputs": []
    },
    {
      "cell_type": "code",
      "metadata": {
        "id": "Mg3DxqA7846h"
      },
      "source": [
        "#Making the gaph dotted line\r\n",
        "plt.title(\"thickness of folded paper\")\r\n",
        "plt.xlabel(\"number of folds\")\r\n",
        "plt.ylabel(\"thickness[M]\")\r\n",
        "#changing the graph color lines and styles\r\n",
        "plt.plot(list1, 'ro' )\r\n",
        "\r\n",
        "plt.figure(figsize=(48, 24))\r\n",
        "plt.show()"
      ],
      "execution_count": null,
      "outputs": []
    }
  ]
}